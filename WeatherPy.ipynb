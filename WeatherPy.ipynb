{
 "cells": [
  {
   "cell_type": "markdown",
   "metadata": {},
   "source": [
    "# WeatherPy\n",
    "----\n",
    "\n",
    "#### Note\n",
    "* Instructions have been included for each segment. You do not have to follow them exactly, but they are included to help you think through the steps."
   ]
  },
  {
   "cell_type": "code",
   "execution_count": 44,
   "metadata": {
    "scrolled": true
   },
   "outputs": [],
   "source": [
    "# Dependencies and Setup\n",
    "import matplotlib.pyplot as plt\n",
    "import pandas as pd\n",
    "import numpy as np\n",
    "import requests\n",
    "import time\n",
    "import json\n",
    "import scipy.stats as st\n",
    "from scipy.stats import linregress\n",
    "\n",
    "# Import API key\n",
    "from api_keys import weather_api_key\n",
    "\n",
    "# Incorporated citipy to determine city based on latitude and longitude\n",
    "from citipy import citipy\n",
    "\n",
    "# Output File (CSV)\n",
    "output_data_file = \"output_data/cities.csv\"\n",
    "\n",
    "# Range of latitudes and longitudes\n",
    "lat_range = (-90, 90)\n",
    "lng_range = (-180, 180)"
   ]
  },
  {
   "cell_type": "markdown",
   "metadata": {},
   "source": [
    "## Generate Cities List"
   ]
  },
  {
   "cell_type": "code",
   "execution_count": 20,
   "metadata": {},
   "outputs": [
    {
     "data": {
      "text/plain": [
       "593"
      ]
     },
     "execution_count": 20,
     "metadata": {},
     "output_type": "execute_result"
    }
   ],
   "source": [
    "# List for holding lat_lngs and cities\n",
    "lat_lngs = []\n",
    "cities = []\n",
    "\n",
    "# Create a set of random lat and lng combinations\n",
    "lats = np.random.uniform(lat_range[0], lat_range[1], size=1500)\n",
    "lngs = np.random.uniform(lng_range[0], lng_range[1], size=1500)\n",
    "lat_lngs = zip(lats, lngs)\n",
    "\n",
    "# Identify nearest city for each lat, lng combination\n",
    "for lat_lng in lat_lngs:\n",
    "    city = citipy.nearest_city(lat_lng[0], lat_lng[1]).city_name\n",
    "    \n",
    "    # If the city is unique, then add it to a our cities list\n",
    "    if city not in cities:\n",
    "        cities.append(city)\n",
    "\n",
    "# Print the city count to confirm sufficient count\n",
    "len(cities)"
   ]
  },
  {
   "cell_type": "markdown",
   "metadata": {},
   "source": [
    "### Perform API Calls\n",
    "* Perform a weather check on each city using a series of successive API calls.\n",
    "* Include a print log of each city as it'sbeing processed (with the city number and city name).\n"
   ]
  },
  {
   "cell_type": "code",
   "execution_count": 21,
   "metadata": {
    "scrolled": true
   },
   "outputs": [
    {
     "name": "stdout",
     "output_type": "stream",
     "text": [
      "Beginning Data Retrieval \n",
      "-----------------------------\n",
      "Processing Record 1 of Set 1 : norman wells\n",
      "Processing Record 2 of Set 1 : qaanaaq\n",
      "Processing Record 3 of Set 1 : busselton\n",
      "Processing Record 4 of Set 1 : hilo\n",
      "Processing Record 5 of Set 1 : pisco\n",
      "Processing Record 6 of Set 1 : estevan\n",
      "Processing Record 7 of Set 1 : chokurdakh\n",
      "Processing Record 8 of Set 1 : thunder bay\n",
      "Processing Record 9 of Set 1 : changping\n",
      "City not found. Skipping...\n",
      "Processing Record 10 of Set 1 : marawi\n",
      "Processing Record 11 of Set 1 : rikitea\n",
      "Processing Record 12 of Set 1 : mataura\n",
      "Processing Record 13 of Set 1 : faanui\n",
      "Processing Record 14 of Set 1 : nowy dwor gdanski\n",
      "Processing Record 15 of Set 1 : pevek\n",
      "Processing Record 16 of Set 1 : san carlos de bariloche\n",
      "Processing Record 17 of Set 1 : cape town\n",
      "City not found. Skipping...\n",
      "Processing Record 18 of Set 1 : lagoa\n",
      "Processing Record 19 of Set 1 : avera\n",
      "Processing Record 20 of Set 1 : kloulklubed\n",
      "Processing Record 21 of Set 1 : khatanga\n",
      "Processing Record 22 of Set 1 : najran\n",
      "Processing Record 23 of Set 1 : tuktoyaktuk\n",
      "Processing Record 24 of Set 1 : severo-kurilsk\n",
      "Processing Record 25 of Set 1 : ahuimanu\n",
      "Processing Record 26 of Set 1 : abu kamal\n",
      "Processing Record 27 of Set 1 : jamestown\n",
      "Processing Record 28 of Set 1 : osorno\n",
      "Processing Record 29 of Set 1 : svay rieng\n",
      "Processing Record 30 of Set 1 : chara\n",
      "Processing Record 31 of Set 1 : kodiak\n",
      "Processing Record 32 of Set 1 : luderitz\n",
      "Processing Record 33 of Set 1 : punta arenas\n",
      "Processing Record 34 of Set 1 : castleisland\n",
      "Processing Record 35 of Set 1 : ushuaia\n",
      "Processing Record 36 of Set 1 : port blair\n",
      "Processing Record 37 of Set 1 : zhanaozen\n",
      "Processing Record 38 of Set 1 : bonavista\n",
      "Processing Record 39 of Set 1 : wynyard\n",
      "Processing Record 40 of Set 1 : kongolo\n",
      "Processing Record 41 of Set 1 : port alfred\n",
      "Processing Record 42 of Set 1 : lebu\n",
      "Processing Record 43 of Set 1 : eureka\n",
      "Processing Record 44 of Set 1 : camapua\n",
      "Processing Record 45 of Set 1 : tasiilaq\n",
      "Processing Record 46 of Set 1 : cervo\n",
      "Processing Record 47 of Set 1 : kapaa\n",
      "Processing Record 48 of Set 1 : lakshmeshwar\n",
      "Processing Record 49 of Set 1 : moron\n",
      "Processing Record 50 of Set 1 : albany\n",
      "Processing Record 0 of Set 2 : baykit\n",
      "Processing Record 1 of Set 2 : hermanus\n",
      "Processing Record 2 of Set 2 : san vicente\n",
      "Processing Record 3 of Set 2 : kurilsk\n",
      "Processing Record 4 of Set 2 : ozinki\n",
      "Processing Record 5 of Set 2 : shwebo\n",
      "Processing Record 6 of Set 2 : geraldton\n",
      "Processing Record 7 of Set 2 : tuy hoa\n",
      "Processing Record 8 of Set 2 : upernavik\n",
      "Processing Record 9 of Set 2 : ilulissat\n",
      "Processing Record 10 of Set 2 : puerto ayora\n",
      "Processing Record 11 of Set 2 : sayyan\n",
      "Processing Record 12 of Set 2 : vaini\n",
      "Processing Record 13 of Set 2 : turayf\n",
      "Processing Record 14 of Set 2 : san juan\n",
      "Processing Record 15 of Set 2 : bintulu\n",
      "City not found. Skipping...\n",
      "Processing Record 16 of Set 2 : kaitangata\n",
      "Processing Record 17 of Set 2 : port lincoln\n",
      "Processing Record 18 of Set 2 : bredasdorp\n",
      "Processing Record 19 of Set 2 : faya\n",
      "Processing Record 20 of Set 2 : kampot\n",
      "City not found. Skipping...\n",
      "Processing Record 21 of Set 2 : saint george\n",
      "Processing Record 22 of Set 2 : bluff\n",
      "Processing Record 23 of Set 2 : virginia beach\n",
      "Processing Record 24 of Set 2 : barrow\n",
      "Processing Record 25 of Set 2 : rio grande\n",
      "Processing Record 26 of Set 2 : merauke\n",
      "Processing Record 27 of Set 2 : hofn\n",
      "Processing Record 28 of Set 2 : ribeira grande\n",
      "Processing Record 29 of Set 2 : shingu\n",
      "City not found. Skipping...\n",
      "Processing Record 30 of Set 2 : kimbe\n",
      "Processing Record 31 of Set 2 : sobolevo\n",
      "Processing Record 32 of Set 2 : adrar\n",
      "Processing Record 33 of Set 2 : latur\n",
      "Processing Record 34 of Set 2 : port macquarie\n",
      "Processing Record 35 of Set 2 : lompoc\n",
      "Processing Record 36 of Set 2 : atuona\n",
      "Processing Record 37 of Set 2 : mahebourg\n",
      "Processing Record 38 of Set 2 : carnarvon\n",
      "Processing Record 39 of Set 2 : fairbanks\n",
      "Processing Record 40 of Set 2 : arraial do cabo\n",
      "Processing Record 41 of Set 2 : hambantota\n",
      "Processing Record 42 of Set 2 : tyrma\n",
      "Processing Record 43 of Set 2 : palmas\n",
      "Processing Record 44 of Set 2 : cidreira\n",
      "Processing Record 45 of Set 2 : mayor pablo lagerenza\n",
      "Processing Record 46 of Set 2 : tonantins\n",
      "City not found. Skipping...\n",
      "Processing Record 47 of Set 2 : leningradskiy\n",
      "Processing Record 48 of Set 2 : los llanos de aridane\n",
      "City not found. Skipping...\n",
      "Processing Record 49 of Set 2 : camden\n",
      "Processing Record 50 of Set 2 : margate\n",
      "Processing Record 0 of Set 3 : makakilo city\n",
      "Processing Record 1 of Set 3 : narsaq\n",
      "Processing Record 2 of Set 3 : dingle\n",
      "Processing Record 3 of Set 3 : sola\n",
      "Processing Record 4 of Set 3 : novoorsk\n",
      "Processing Record 5 of Set 3 : burnie\n",
      "Processing Record 6 of Set 3 : myskhako\n",
      "Processing Record 7 of Set 3 : alihe\n",
      "Processing Record 8 of Set 3 : barranca\n",
      "Processing Record 9 of Set 3 : baruun-urt\n",
      "Processing Record 10 of Set 3 : dikson\n",
      "Processing Record 11 of Set 3 : samarai\n",
      "Processing Record 12 of Set 3 : novyy urengoy\n",
      "City not found. Skipping...\n",
      "City not found. Skipping...\n",
      "Processing Record 13 of Set 3 : rundu\n",
      "Processing Record 14 of Set 3 : hithadhoo\n",
      "Processing Record 15 of Set 3 : avarua\n",
      "Processing Record 16 of Set 3 : sao filipe\n",
      "Processing Record 17 of Set 3 : victoria\n",
      "Processing Record 18 of Set 3 : thyolo\n",
      "Processing Record 19 of Set 3 : turan\n",
      "City not found. Skipping...\n",
      "Processing Record 20 of Set 3 : zheleznodorozhnyy\n",
      "Processing Record 21 of Set 3 : georgetown\n",
      "Processing Record 22 of Set 3 : miraflores\n",
      "Processing Record 23 of Set 3 : muroto\n",
      "Processing Record 24 of Set 3 : butaritari\n",
      "Processing Record 25 of Set 3 : luang prabang\n",
      "City not found. Skipping...\n",
      "Processing Record 26 of Set 3 : wattegama\n",
      "Processing Record 27 of Set 3 : meulaboh\n",
      "Processing Record 28 of Set 3 : porto walter\n",
      "Processing Record 29 of Set 3 : filadelfia\n",
      "Processing Record 30 of Set 3 : mandera\n",
      "Processing Record 31 of Set 3 : tautira\n",
      "Processing Record 32 of Set 3 : cherskiy\n",
      "Processing Record 33 of Set 3 : constitucion\n",
      "Processing Record 34 of Set 3 : bethel\n",
      "Processing Record 35 of Set 3 : itum-kale\n",
      "Processing Record 36 of Set 3 : provideniya\n",
      "Processing Record 37 of Set 3 : hilton head island\n",
      "Processing Record 38 of Set 3 : tura\n",
      "Processing Record 39 of Set 3 : sigli\n",
      "Processing Record 40 of Set 3 : san patricio\n",
      "City not found. Skipping...\n",
      "City not found. Skipping...\n",
      "Processing Record 41 of Set 3 : shache\n",
      "Processing Record 42 of Set 3 : araguaina\n",
      "Processing Record 43 of Set 3 : lazaro cardenas\n",
      "Processing Record 44 of Set 3 : berlevag\n",
      "Processing Record 45 of Set 3 : bambous virieux\n",
      "Processing Record 46 of Set 3 : staritsa\n",
      "Processing Record 47 of Set 3 : ostrovnoy\n",
      "Processing Record 48 of Set 3 : mayo\n",
      "Processing Record 49 of Set 3 : chalus\n",
      "Processing Record 50 of Set 3 : deep river\n",
      "Processing Record 0 of Set 4 : yumen\n",
      "Processing Record 1 of Set 4 : thompson\n",
      "Processing Record 2 of Set 4 : atar\n",
      "Processing Record 3 of Set 4 : olinda\n",
      "Processing Record 4 of Set 4 : aklavik\n",
      "Processing Record 5 of Set 4 : pangody\n",
      "Processing Record 6 of Set 4 : log\n",
      "Processing Record 7 of Set 4 : aykhal\n",
      "Processing Record 8 of Set 4 : sur\n",
      "Processing Record 9 of Set 4 : torquay\n",
      "Processing Record 10 of Set 4 : caravelas\n",
      "Processing Record 11 of Set 4 : hobart\n",
      "Processing Record 12 of Set 4 : gazanjyk\n",
      "Processing Record 13 of Set 4 : maragogi\n",
      "Processing Record 14 of Set 4 : chapais\n",
      "Processing Record 15 of Set 4 : fare\n",
      "Processing Record 16 of Set 4 : hasaki\n",
      "Processing Record 17 of Set 4 : husavik\n",
      "Processing Record 18 of Set 4 : port elizabeth\n",
      "Processing Record 19 of Set 4 : chuy\n",
      "Processing Record 20 of Set 4 : pacific grove\n",
      "Processing Record 21 of Set 4 : elko\n",
      "Processing Record 22 of Set 4 : talnakh\n",
      "Processing Record 23 of Set 4 : mar del plata\n",
      "Processing Record 24 of Set 4 : iberia\n",
      "Processing Record 25 of Set 4 : san quintin\n",
      "Processing Record 26 of Set 4 : rio cuarto\n",
      "Processing Record 27 of Set 4 : casper\n",
      "Processing Record 28 of Set 4 : verkhoyansk\n",
      "Processing Record 29 of Set 4 : vossevangen\n",
      "Processing Record 30 of Set 4 : arlit\n",
      "Processing Record 31 of Set 4 : zhangye\n",
      "Processing Record 32 of Set 4 : sal rei\n",
      "Processing Record 33 of Set 4 : yulara\n",
      "Processing Record 34 of Set 4 : bagdarin\n",
      "Processing Record 35 of Set 4 : tiksi\n",
      "Processing Record 36 of Set 4 : touros\n",
      "Processing Record 37 of Set 4 : college\n",
      "City not found. Skipping...\n"
     ]
    },
    {
     "name": "stdout",
     "output_type": "stream",
     "text": [
      "Processing Record 38 of Set 4 : peleduy\n",
      "Processing Record 39 of Set 4 : hirado\n",
      "Processing Record 40 of Set 4 : wajima\n",
      "Processing Record 41 of Set 4 : codrington\n",
      "Processing Record 42 of Set 4 : hobyo\n",
      "Processing Record 43 of Set 4 : san isidro\n",
      "Processing Record 44 of Set 4 : olafsvik\n",
      "Processing Record 45 of Set 4 : esperance\n",
      "Processing Record 46 of Set 4 : saint-philippe\n",
      "Processing Record 47 of Set 4 : bengkulu\n",
      "Processing Record 48 of Set 4 : new norfolk\n",
      "Processing Record 49 of Set 4 : aransas pass\n",
      "Processing Record 50 of Set 4 : nanortalik\n",
      "Processing Record 0 of Set 5 : stykkisholmur\n",
      "Processing Record 1 of Set 5 : alofi\n",
      "Processing Record 2 of Set 5 : namatanai\n",
      "Processing Record 3 of Set 5 : laguna\n",
      "Processing Record 4 of Set 5 : yamada\n",
      "Processing Record 5 of Set 5 : sibolga\n",
      "Processing Record 6 of Set 5 : klaeng\n",
      "Processing Record 7 of Set 5 : vardo\n",
      "City not found. Skipping...\n",
      "Processing Record 8 of Set 5 : gumdag\n",
      "Processing Record 9 of Set 5 : saskylakh\n",
      "Processing Record 10 of Set 5 : pak phanang\n",
      "Processing Record 11 of Set 5 : rocha\n",
      "Processing Record 12 of Set 5 : bara\n",
      "Processing Record 13 of Set 5 : yellowknife\n",
      "Processing Record 14 of Set 5 : palmer\n",
      "Processing Record 15 of Set 5 : dharchula\n",
      "Processing Record 16 of Set 5 : ahipara\n",
      "Processing Record 17 of Set 5 : volksrust\n",
      "Processing Record 18 of Set 5 : sciacca\n",
      "Processing Record 19 of Set 5 : palauig\n",
      "Processing Record 20 of Set 5 : caluquembe\n",
      "Processing Record 21 of Set 5 : limbang\n",
      "Processing Record 22 of Set 5 : sivaki\n",
      "Processing Record 23 of Set 5 : shenjiamen\n",
      "City not found. Skipping...\n",
      "Processing Record 24 of Set 5 : tilichiki\n",
      "City not found. Skipping...\n",
      "Processing Record 25 of Set 5 : mwene-ditu\n",
      "City not found. Skipping...\n",
      "Processing Record 26 of Set 5 : maltahohe\n",
      "Processing Record 27 of Set 5 : pangnirtung\n",
      "Processing Record 28 of Set 5 : kuytun\n",
      "Processing Record 29 of Set 5 : lavrentiya\n",
      "Processing Record 30 of Set 5 : aras\n",
      "Processing Record 31 of Set 5 : rudnogorsk\n",
      "Processing Record 32 of Set 5 : gat\n",
      "City not found. Skipping...\n",
      "Processing Record 33 of Set 5 : vila velha\n",
      "Processing Record 34 of Set 5 : pitimbu\n",
      "Processing Record 35 of Set 5 : cayenne\n",
      "City not found. Skipping...\n",
      "Processing Record 36 of Set 5 : grand gaube\n",
      "Processing Record 37 of Set 5 : la ronge\n",
      "Processing Record 38 of Set 5 : brae\n",
      "City not found. Skipping...\n",
      "Processing Record 39 of Set 5 : banda aceh\n",
      "Processing Record 40 of Set 5 : truth or consequences\n",
      "Processing Record 41 of Set 5 : sistranda\n",
      "Processing Record 42 of Set 5 : marsa matruh\n",
      "Processing Record 43 of Set 5 : tomohon\n",
      "Processing Record 44 of Set 5 : khandyga\n",
      "Processing Record 45 of Set 5 : hualmay\n",
      "City not found. Skipping...\n",
      "Processing Record 46 of Set 5 : palmeira das missoes\n",
      "Processing Record 47 of Set 5 : moerai\n",
      "City not found. Skipping...\n",
      "Processing Record 48 of Set 5 : kyshtovka\n",
      "Processing Record 49 of Set 5 : atambua\n",
      "Processing Record 50 of Set 5 : tuatapere\n",
      "Processing Record 0 of Set 6 : muros\n",
      "Processing Record 1 of Set 6 : kavieng\n",
      "Processing Record 2 of Set 6 : castro\n",
      "Processing Record 3 of Set 6 : manado\n",
      "Processing Record 4 of Set 6 : paita\n",
      "Processing Record 5 of Set 6 : panambi\n",
      "Processing Record 6 of Set 6 : mount hagen\n",
      "Processing Record 7 of Set 6 : altay\n",
      "Processing Record 8 of Set 6 : cao bang\n",
      "Processing Record 9 of Set 6 : camacha\n",
      "Processing Record 10 of Set 6 : nishihara\n",
      "Processing Record 11 of Set 6 : vostok\n",
      "Processing Record 12 of Set 6 : matagami\n",
      "Processing Record 13 of Set 6 : coos bay\n",
      "Processing Record 14 of Set 6 : sinnamary\n",
      "Processing Record 15 of Set 6 : iqaluit\n",
      "Processing Record 16 of Set 6 : klaksvik\n",
      "City not found. Skipping...\n",
      "Processing Record 17 of Set 6 : viet tri\n",
      "Processing Record 18 of Set 6 : coquimbo\n",
      "Processing Record 19 of Set 6 : bari\n",
      "Processing Record 20 of Set 6 : sovetskiy\n",
      "Processing Record 21 of Set 6 : praia da vitoria\n",
      "Processing Record 22 of Set 6 : yingcheng\n",
      "Processing Record 23 of Set 6 : richards bay\n",
      "Processing Record 24 of Set 6 : cabo san lucas\n",
      "Processing Record 25 of Set 6 : tomatlan\n",
      "Processing Record 26 of Set 6 : alta\n",
      "Processing Record 27 of Set 6 : podor\n",
      "Processing Record 28 of Set 6 : nipawin\n",
      "Processing Record 29 of Set 6 : kronshtadt\n",
      "Processing Record 30 of Set 6 : souillac\n",
      "Processing Record 31 of Set 6 : kontagora\n",
      "Processing Record 32 of Set 6 : yar-sale\n",
      "Processing Record 33 of Set 6 : henderson\n",
      "Processing Record 34 of Set 6 : pokhara\n",
      "Processing Record 35 of Set 6 : belmonte\n",
      "Processing Record 36 of Set 6 : columbus\n",
      "City not found. Skipping...\n",
      "Processing Record 37 of Set 6 : surt\n",
      "Processing Record 38 of Set 6 : kandi\n",
      "Processing Record 39 of Set 6 : imbituba\n",
      "Processing Record 40 of Set 6 : mayahi\n",
      "Processing Record 41 of Set 6 : les cayes\n",
      "Processing Record 42 of Set 6 : pasni\n",
      "Processing Record 43 of Set 6 : wad madani\n",
      "Processing Record 44 of Set 6 : alto araguaia\n",
      "City not found. Skipping...\n",
      "City not found. Skipping...\n",
      "Processing Record 45 of Set 6 : airai\n",
      "Processing Record 46 of Set 6 : alice springs\n",
      "Processing Record 47 of Set 6 : east london\n",
      "Processing Record 48 of Set 6 : buchrain\n",
      "Processing Record 49 of Set 6 : zhoucheng\n",
      "Processing Record 50 of Set 6 : maningrida\n",
      "Processing Record 0 of Set 7 : kpandae\n",
      "Processing Record 1 of Set 7 : aksu\n",
      "Processing Record 2 of Set 7 : poum\n",
      "Processing Record 3 of Set 7 : nikolskoye\n",
      "Processing Record 4 of Set 7 : honiara\n",
      "Processing Record 5 of Set 7 : bac lieu\n",
      "Processing Record 6 of Set 7 : gamba\n",
      "Processing Record 7 of Set 7 : manakara\n",
      "Processing Record 8 of Set 7 : bonthe\n",
      "Processing Record 9 of Set 7 : aasiaat\n",
      "Processing Record 10 of Set 7 : manjacaze\n",
      "Processing Record 11 of Set 7 : lasa\n",
      "Processing Record 12 of Set 7 : coihaique\n",
      "Processing Record 13 of Set 7 : tsiroanomandidy\n",
      "Processing Record 14 of Set 7 : havre-saint-pierre\n",
      "Processing Record 15 of Set 7 : ust-omchug\n",
      "Processing Record 16 of Set 7 : coahuayana\n",
      "Processing Record 17 of Set 7 : sitka\n",
      "Processing Record 18 of Set 7 : qaqortoq\n",
      "Processing Record 19 of Set 7 : katsuura\n",
      "Processing Record 20 of Set 7 : vila franca do campo\n",
      "Processing Record 21 of Set 7 : maceio\n",
      "Processing Record 22 of Set 7 : rosarito\n",
      "Processing Record 23 of Set 7 : branisca\n",
      "Processing Record 24 of Set 7 : stabat\n",
      "Processing Record 25 of Set 7 : penzance\n",
      "Processing Record 26 of Set 7 : oriximina\n",
      "Processing Record 27 of Set 7 : iguape\n",
      "Processing Record 28 of Set 7 : mon\n",
      "Processing Record 29 of Set 7 : katobu\n",
      "Processing Record 30 of Set 7 : vieste\n",
      "Processing Record 31 of Set 7 : henties bay\n",
      "Processing Record 32 of Set 7 : snezhnogorsk\n",
      "Processing Record 33 of Set 7 : boende\n",
      "Processing Record 34 of Set 7 : guilin\n",
      "Processing Record 35 of Set 7 : gillette\n",
      "Processing Record 36 of Set 7 : verkhnyaya toyma\n",
      "Processing Record 37 of Set 7 : regeneracao\n",
      "Processing Record 38 of Set 7 : yashkul\n",
      "Processing Record 39 of Set 7 : dunda\n",
      "Processing Record 40 of Set 7 : mitchell\n",
      "Processing Record 41 of Set 7 : san jose\n",
      "Processing Record 42 of Set 7 : guanica\n",
      "Processing Record 43 of Set 7 : manitouwadge\n",
      "Processing Record 44 of Set 7 : carauari\n",
      "Processing Record 45 of Set 7 : karratha\n",
      "Processing Record 46 of Set 7 : nantucket\n",
      "Processing Record 47 of Set 7 : kuching\n",
      "Processing Record 48 of Set 7 : labuhan\n",
      "Processing Record 49 of Set 7 : goundam\n",
      "Processing Record 50 of Set 7 : leshukonskoye\n",
      "Processing Record 0 of Set 8 : shiraz\n",
      "Processing Record 1 of Set 8 : yanam\n",
      "Processing Record 2 of Set 8 : ulladulla\n",
      "Processing Record 3 of Set 8 : redwater\n",
      "Processing Record 4 of Set 8 : agnibilekrou\n",
      "Processing Record 5 of Set 8 : mandalgovi\n",
      "Processing Record 6 of Set 8 : saint-pierre\n",
      "City not found. Skipping...\n",
      "Processing Record 7 of Set 8 : dobre miasto\n",
      "Processing Record 8 of Set 8 : belaya gora\n",
      "Processing Record 9 of Set 8 : goderich\n",
      "Processing Record 10 of Set 8 : shetpe\n",
      "Processing Record 11 of Set 8 : mirandopolis\n",
      "Processing Record 12 of Set 8 : lodingen\n",
      "Processing Record 13 of Set 8 : valdez\n",
      "Processing Record 14 of Set 8 : ewing\n",
      "Processing Record 15 of Set 8 : jumla\n",
      "Processing Record 16 of Set 8 : mindelo\n",
      "Processing Record 17 of Set 8 : kudahuvadhoo\n",
      "City not found. Skipping...\n",
      "Processing Record 18 of Set 8 : chimbote\n",
      "Processing Record 19 of Set 8 : turukhansk\n",
      "Processing Record 20 of Set 8 : harper\n",
      "Processing Record 21 of Set 8 : buraydah\n",
      "Processing Record 22 of Set 8 : hamilton\n",
      "Processing Record 23 of Set 8 : comodoro rivadavia\n"
     ]
    },
    {
     "name": "stdout",
     "output_type": "stream",
     "text": [
      "Processing Record 24 of Set 8 : padang\n",
      "Processing Record 25 of Set 8 : egvekinot\n",
      "Processing Record 26 of Set 8 : epe\n",
      "Processing Record 27 of Set 8 : puerto escondido\n",
      "Processing Record 28 of Set 8 : binzhou\n",
      "Processing Record 29 of Set 8 : roma\n",
      "Processing Record 30 of Set 8 : fort nelson\n",
      "Processing Record 31 of Set 8 : spencer\n",
      "City not found. Skipping...\n",
      "Processing Record 32 of Set 8 : fengzhen\n",
      "Processing Record 33 of Set 8 : clyde river\n",
      "Processing Record 34 of Set 8 : bela vista\n",
      "Processing Record 35 of Set 8 : mana\n",
      "Processing Record 36 of Set 8 : sofiyivka\n",
      "Processing Record 37 of Set 8 : santa rosa\n",
      "Processing Record 38 of Set 8 : khazar\n",
      "Processing Record 39 of Set 8 : kahului\n",
      "Processing Record 40 of Set 8 : roswell\n",
      "Processing Record 41 of Set 8 : ivanteyevka\n",
      "Processing Record 42 of Set 8 : jasper\n",
      "Processing Record 43 of Set 8 : orlik\n",
      "Processing Record 44 of Set 8 : korla\n",
      "Processing Record 45 of Set 8 : yenagoa\n",
      "Processing Record 46 of Set 8 : bondo\n",
      "Processing Record 47 of Set 8 : kaeo\n",
      "Processing Record 48 of Set 8 : sompeta\n",
      "Processing Record 49 of Set 8 : cartagena\n",
      "Processing Record 50 of Set 8 : guerrero negro\n",
      "Processing Record 0 of Set 9 : rognan\n",
      "Processing Record 1 of Set 9 : conde\n",
      "Processing Record 2 of Set 9 : boguchany\n",
      "Processing Record 3 of Set 9 : sainte-suzanne\n",
      "Processing Record 4 of Set 9 : catalina\n",
      "Processing Record 5 of Set 9 : zhoukou\n",
      "City not found. Skipping...\n",
      "Processing Record 6 of Set 9 : sligo\n",
      "City not found. Skipping...\n",
      "City not found. Skipping...\n",
      "Processing Record 7 of Set 9 : sadao\n",
      "Processing Record 8 of Set 9 : uchiza\n",
      "Processing Record 9 of Set 9 : la palma\n",
      "Processing Record 10 of Set 9 : dicabisagan\n",
      "Processing Record 11 of Set 9 : san marcos de colon\n",
      "Processing Record 12 of Set 9 : lushnje\n",
      "Processing Record 13 of Set 9 : rawah\n",
      "Processing Record 14 of Set 9 : luangwa\n",
      "Processing Record 15 of Set 9 : kumano\n",
      "Processing Record 16 of Set 9 : ust-tsilma\n",
      "Processing Record 17 of Set 9 : luau\n",
      "Processing Record 18 of Set 9 : port-gentil\n",
      "Processing Record 19 of Set 9 : srednekolymsk\n",
      "Processing Record 20 of Set 9 : kismayo\n",
      "Processing Record 21 of Set 9 : boffa\n",
      "Processing Record 22 of Set 9 : torbay\n",
      "Processing Record 23 of Set 9 : parasia\n",
      "Processing Record 24 of Set 9 : inhambane\n",
      "Processing Record 25 of Set 9 : mangrol\n",
      "Processing Record 26 of Set 9 : krasnooktyabrskiy\n",
      "Processing Record 27 of Set 9 : kota belud\n",
      "Processing Record 28 of Set 9 : namwala\n",
      "Processing Record 29 of Set 9 : kavaratti\n",
      "Processing Record 30 of Set 9 : roblin\n",
      "Processing Record 31 of Set 9 : san andres\n",
      "Processing Record 32 of Set 9 : londa\n",
      "Processing Record 33 of Set 9 : limbe\n",
      "Processing Record 34 of Set 9 : ordu\n",
      "Processing Record 35 of Set 9 : les herbiers\n",
      "Processing Record 36 of Set 9 : scarborough\n",
      "Processing Record 37 of Set 9 : mawlaik\n",
      "Processing Record 38 of Set 9 : katherine\n",
      "Processing Record 39 of Set 9 : matucana\n",
      "Processing Record 40 of Set 9 : longyearbyen\n",
      "Processing Record 41 of Set 9 : araouane\n",
      "Processing Record 42 of Set 9 : port hardy\n",
      "Processing Record 43 of Set 9 : buchanan\n",
      "Processing Record 44 of Set 9 : boyolangu\n",
      "Processing Record 45 of Set 9 : taoudenni\n",
      "Processing Record 46 of Set 9 : marsabit\n",
      "City not found. Skipping...\n",
      "Processing Record 47 of Set 9 : port hedland\n",
      "Processing Record 48 of Set 9 : mega\n",
      "Processing Record 49 of Set 9 : yatou\n",
      "Processing Record 50 of Set 9 : kabare\n",
      "Processing Record 0 of Set 10 : fortuna\n",
      "Processing Record 1 of Set 10 : lagos\n",
      "Processing Record 2 of Set 10 : beloha\n",
      "Processing Record 3 of Set 10 : minab\n",
      "Processing Record 4 of Set 10 : chicama\n",
      "Processing Record 5 of Set 10 : cairns\n",
      "Processing Record 6 of Set 10 : sechura\n",
      "Processing Record 7 of Set 10 : rafraf\n",
      "City not found. Skipping...\n",
      "City not found. Skipping...\n",
      "Processing Record 8 of Set 10 : port moresby\n",
      "City not found. Skipping...\n",
      "Processing Record 9 of Set 10 : makat\n",
      "City not found. Skipping...\n",
      "Processing Record 10 of Set 10 : koygorodok\n",
      "Processing Record 11 of Set 10 : veraval\n",
      "Processing Record 12 of Set 10 : kutum\n",
      "Processing Record 13 of Set 10 : praia\n",
      "Processing Record 14 of Set 10 : solnechnyy\n",
      "Processing Record 15 of Set 10 : north bend\n",
      "Processing Record 16 of Set 10 : bardstown\n",
      "Processing Record 17 of Set 10 : peniche\n",
      "Processing Record 18 of Set 10 : ormara\n",
      "Processing Record 19 of Set 10 : miandrivazo\n",
      "Processing Record 20 of Set 10 : solina\n",
      "Processing Record 21 of Set 10 : selishche\n",
      "Processing Record 22 of Set 10 : beringovskiy\n",
      "Processing Record 23 of Set 10 : nuuk\n",
      "Processing Record 24 of Set 10 : ofaqim\n",
      "Processing Record 25 of Set 10 : taganak\n",
      "Processing Record 26 of Set 10 : talcahuano\n",
      "Processing Record 27 of Set 10 : nusaybin\n",
      "Processing Record 28 of Set 10 : bairiki\n",
      "Processing Record 29 of Set 10 : nurota\n",
      "Processing Record 30 of Set 10 : guane\n",
      "Processing Record 31 of Set 10 : kichmengskiy gorodok\n",
      "Processing Record 32 of Set 10 : pangai\n",
      "Processing Record 33 of Set 10 : werda\n",
      "Processing Record 34 of Set 10 : aitape\n",
      "Processing Record 35 of Set 10 : tawau\n",
      "Processing Record 36 of Set 10 : rodrigues alves\n",
      "Processing Record 37 of Set 10 : saldanha\n",
      "Processing Record 38 of Set 10 : stornoway\n",
      "Processing Record 39 of Set 10 : muswellbrook\n",
      "Processing Record 40 of Set 10 : baoro\n",
      "City not found. Skipping...\n",
      "Processing Record 41 of Set 10 : adre\n",
      "City not found. Skipping...\n",
      "Processing Record 42 of Set 10 : makubetsu\n",
      "Processing Record 43 of Set 10 : pen\n",
      "Processing Record 44 of Set 10 : bardoli\n",
      "Processing Record 45 of Set 10 : tolyatti\n",
      "Processing Record 46 of Set 10 : asau\n",
      "Processing Record 47 of Set 10 : nouadhibou\n",
      "Processing Record 48 of Set 10 : camacari\n",
      "Processing Record 49 of Set 10 : pasir gudang\n",
      "Processing Record 50 of Set 10 : tarata\n",
      "Processing Record 0 of Set 11 : kalawit\n",
      "Processing Record 1 of Set 11 : pamantingan\n",
      "City not found. Skipping...\n",
      "Processing Record 2 of Set 11 : tadine\n",
      "City not found. Skipping...\n",
      "Processing Record 3 of Set 11 : saint anthony\n",
      "Processing Record 4 of Set 11 : bogorodsk\n",
      "Processing Record 5 of Set 11 : ketchikan\n",
      "Processing Record 6 of Set 11 : dunedin\n",
      "Processing Record 7 of Set 11 : ponta do sol\n",
      "Processing Record 8 of Set 11 : qui nhon\n",
      "Processing Record 9 of Set 11 : lakatoro\n",
      "Processing Record 10 of Set 11 : praya\n",
      "Processing Record 11 of Set 11 : horizontina\n",
      "Processing Record 12 of Set 11 : ayagoz\n",
      "Processing Record 13 of Set 11 : waipawa\n",
      "Processing Record 14 of Set 11 : tiznit\n",
      "Processing Record 15 of Set 11 : yerbogachen\n",
      "Processing Record 16 of Set 11 : namibe\n",
      "Processing Record 17 of Set 11 : kamaishi\n",
      "Processing Record 18 of Set 11 : terrace bay\n",
      "Processing Record 19 of Set 11 : bereda\n",
      "Processing Record 20 of Set 11 : mardin\n",
      "Processing Record 21 of Set 11 : martapura\n",
      "Processing Record 22 of Set 11 : deputatskiy\n",
      "Processing Record 23 of Set 11 : muisne\n",
      "Processing Record 24 of Set 11 : neuquen\n",
      "Processing Record 25 of Set 11 : ulvik\n",
      "Processing Record 26 of Set 11 : kennett\n",
      "Processing Record 27 of Set 11 : calafell\n",
      "Processing Record 28 of Set 11 : greytown\n",
      "Processing Record 29 of Set 11 : yaan\n",
      "Processing Record 30 of Set 11 : okha\n",
      "Processing Record 31 of Set 11 : gasa\n",
      "Processing Record 32 of Set 11 : komsomolskiy\n",
      "Processing Record 33 of Set 11 : marienburg\n",
      "Processing Record 34 of Set 11 : aswan\n",
      "Processing Record 35 of Set 11 : chapada dos guimaraes\n",
      "Processing Record 36 of Set 11 : road town\n",
      "Processing Record 37 of Set 11 : governador valadares\n",
      "Processing Record 38 of Set 11 : dengfeng\n",
      "Processing Record 39 of Set 11 : el rosario\n",
      "Processing Record 40 of Set 11 : senno\n",
      "Processing Record 41 of Set 11 : san lazaro\n",
      "-----------------------------\n",
      "Data Retrieval Complete\n",
      "-----------------------------\n"
     ]
    }
   ],
   "source": [
    "city_name_list = []\n",
    "cloudiness_list = []\n",
    "country_list = []\n",
    "date_list = []\n",
    "humidity_list = []\n",
    "lat_list = []\n",
    "lng_list = []\n",
    "max_temp_list = []\n",
    "wind_speed_list = []\n",
    "index_counter = 0\n",
    "set_counter = 1\n",
    "\n",
    "\n",
    "print(\"Beginning Data Retrieval \")\n",
    "print(\"-----------------------------\")\n",
    "\n",
    "base_url = \"http://api.openweathermap.org/data/2.5/weather?\"\n",
    "units = \"imperial\"\n",
    "query_url = f\"{base_url}appid={weather_api_key}&units={units}&q=\"\n",
    "\n",
    "\n",
    "# For each city name in cities list, do below things...\n",
    "for index, city in enumerate(cities, start = 1):\n",
    "    try:\n",
    "        response = requests.get(query_url + city).json()\n",
    "        city_name_list.append(response[\"name\"])\n",
    "        cloudiness_list.append(response[\"clouds\"][\"all\"])\n",
    "        country_list.append(response[\"sys\"][\"country\"])\n",
    "        date_list.append(response[\"dt\"])\n",
    "        humidity_list.append(response[\"main\"][\"humidity\"])\n",
    "        lat_list.append(response[\"coord\"][\"lat\"])\n",
    "        lng_list.append(response[\"coord\"][\"lon\"])\n",
    "        max_temp_list.append(response['main']['temp_max'])\n",
    "        wind_speed_list.append(response[\"wind\"][\"speed\"])\n",
    "        if index_counter > 49:\n",
    "            index_counter = 0\n",
    "            set_counter = set_counter + 1\n",
    "    \n",
    "        else:\n",
    "            index_counter = index_counter + 1\n",
    "            \n",
    "        print(f\"Processing Record {index_counter} of Set {set_counter} : {city}\") \n",
    "  \n",
    "    except(KeyError, IndexError):\n",
    "        print(\"City not found. Skipping...\")\n",
    "\n",
    "print(\"-----------------------------\")\n",
    "print(\"Data Retrieval Complete\")\n",
    "print(\"-----------------------------\")"
   ]
  },
  {
   "cell_type": "markdown",
   "metadata": {},
   "source": [
    "### Convert Raw Data to DataFrame\n",
    "* Export the city data into a .csv.\n",
    "* Display the DataFrame"
   ]
  },
  {
   "cell_type": "code",
   "execution_count": 22,
   "metadata": {},
   "outputs": [],
   "source": [
    "# Create a panda data frame using data retrieved\n",
    "weather_dict = pd.DataFrame({ \n",
    "                \"City\" : city_name_list,\n",
    "                \"Cloudiness\" : cloudiness_list,\n",
    "                \"Country\" : country_list,\n",
    "                \"Date\" : date_list,\n",
    "                \"Humidity\" : humidity_list,\n",
    "                \"Lat\" : lat_list,\n",
    "                \"Lng\" : lng_list,\n",
    "                \"Max Temp\" : max_temp_list,\n",
    "                \"Wind Speed\" : wind_speed_list\n",
    "})"
   ]
  },
  {
   "cell_type": "code",
   "execution_count": 23,
   "metadata": {},
   "outputs": [
    {
     "data": {
      "text/plain": [
       "City          551\n",
       "Cloudiness    551\n",
       "Country       551\n",
       "Date          551\n",
       "Humidity      551\n",
       "Lat           551\n",
       "Lng           551\n",
       "Max Temp      551\n",
       "Wind Speed    551\n",
       "dtype: int64"
      ]
     },
     "execution_count": 23,
     "metadata": {},
     "output_type": "execute_result"
    }
   ],
   "source": [
    "# Count data\n",
    "weather_dict.count()"
   ]
  },
  {
   "cell_type": "code",
   "execution_count": 24,
   "metadata": {},
   "outputs": [
    {
     "data": {
      "text/html": [
       "<div>\n",
       "<style scoped>\n",
       "    .dataframe tbody tr th:only-of-type {\n",
       "        vertical-align: middle;\n",
       "    }\n",
       "\n",
       "    .dataframe tbody tr th {\n",
       "        vertical-align: top;\n",
       "    }\n",
       "\n",
       "    .dataframe thead th {\n",
       "        text-align: right;\n",
       "    }\n",
       "</style>\n",
       "<table border=\"1\" class=\"dataframe\">\n",
       "  <thead>\n",
       "    <tr style=\"text-align: right;\">\n",
       "      <th></th>\n",
       "      <th>City</th>\n",
       "      <th>Cloudiness</th>\n",
       "      <th>Country</th>\n",
       "      <th>Date</th>\n",
       "      <th>Humidity</th>\n",
       "      <th>Lat</th>\n",
       "      <th>Lng</th>\n",
       "      <th>Max Temp</th>\n",
       "      <th>Wind Speed</th>\n",
       "    </tr>\n",
       "  </thead>\n",
       "  <tbody>\n",
       "    <tr>\n",
       "      <th>0</th>\n",
       "      <td>Norman Wells</td>\n",
       "      <td>20</td>\n",
       "      <td>CA</td>\n",
       "      <td>1611901852</td>\n",
       "      <td>67</td>\n",
       "      <td>65.2820</td>\n",
       "      <td>-126.8329</td>\n",
       "      <td>-36.40</td>\n",
       "      <td>3.44</td>\n",
       "    </tr>\n",
       "    <tr>\n",
       "      <th>1</th>\n",
       "      <td>Qaanaaq</td>\n",
       "      <td>0</td>\n",
       "      <td>GL</td>\n",
       "      <td>1611901852</td>\n",
       "      <td>62</td>\n",
       "      <td>77.4840</td>\n",
       "      <td>-69.3632</td>\n",
       "      <td>-14.01</td>\n",
       "      <td>6.15</td>\n",
       "    </tr>\n",
       "    <tr>\n",
       "      <th>2</th>\n",
       "      <td>Busselton</td>\n",
       "      <td>0</td>\n",
       "      <td>AU</td>\n",
       "      <td>1611901852</td>\n",
       "      <td>43</td>\n",
       "      <td>-33.6500</td>\n",
       "      <td>115.3333</td>\n",
       "      <td>84.99</td>\n",
       "      <td>3.00</td>\n",
       "    </tr>\n",
       "    <tr>\n",
       "      <th>3</th>\n",
       "      <td>Hilo</td>\n",
       "      <td>75</td>\n",
       "      <td>US</td>\n",
       "      <td>1611901852</td>\n",
       "      <td>64</td>\n",
       "      <td>19.7297</td>\n",
       "      <td>-155.0900</td>\n",
       "      <td>73.40</td>\n",
       "      <td>9.08</td>\n",
       "    </tr>\n",
       "    <tr>\n",
       "      <th>4</th>\n",
       "      <td>Pisco</td>\n",
       "      <td>0</td>\n",
       "      <td>PE</td>\n",
       "      <td>1611901853</td>\n",
       "      <td>78</td>\n",
       "      <td>-13.7000</td>\n",
       "      <td>-76.2167</td>\n",
       "      <td>69.80</td>\n",
       "      <td>9.22</td>\n",
       "    </tr>\n",
       "    <tr>\n",
       "      <th>...</th>\n",
       "      <td>...</td>\n",
       "      <td>...</td>\n",
       "      <td>...</td>\n",
       "      <td>...</td>\n",
       "      <td>...</td>\n",
       "      <td>...</td>\n",
       "      <td>...</td>\n",
       "      <td>...</td>\n",
       "      <td>...</td>\n",
       "    </tr>\n",
       "    <tr>\n",
       "      <th>546</th>\n",
       "      <td>Governador Valadares</td>\n",
       "      <td>2</td>\n",
       "      <td>BR</td>\n",
       "      <td>1611901991</td>\n",
       "      <td>91</td>\n",
       "      <td>-18.8511</td>\n",
       "      <td>-41.9494</td>\n",
       "      <td>67.32</td>\n",
       "      <td>0.60</td>\n",
       "    </tr>\n",
       "    <tr>\n",
       "      <th>547</th>\n",
       "      <td>Songyang</td>\n",
       "      <td>100</td>\n",
       "      <td>CN</td>\n",
       "      <td>1611901829</td>\n",
       "      <td>33</td>\n",
       "      <td>34.4553</td>\n",
       "      <td>113.0281</td>\n",
       "      <td>53.96</td>\n",
       "      <td>5.70</td>\n",
       "    </tr>\n",
       "    <tr>\n",
       "      <th>548</th>\n",
       "      <td>El Rosario</td>\n",
       "      <td>0</td>\n",
       "      <td>MX</td>\n",
       "      <td>1611901992</td>\n",
       "      <td>94</td>\n",
       "      <td>24.2556</td>\n",
       "      <td>-107.1828</td>\n",
       "      <td>62.01</td>\n",
       "      <td>3.00</td>\n",
       "    </tr>\n",
       "    <tr>\n",
       "      <th>549</th>\n",
       "      <td>Senno</td>\n",
       "      <td>100</td>\n",
       "      <td>RU</td>\n",
       "      <td>1611901992</td>\n",
       "      <td>93</td>\n",
       "      <td>59.5336</td>\n",
       "      <td>33.9167</td>\n",
       "      <td>28.99</td>\n",
       "      <td>4.00</td>\n",
       "    </tr>\n",
       "    <tr>\n",
       "      <th>550</th>\n",
       "      <td>San Lazaro</td>\n",
       "      <td>48</td>\n",
       "      <td>BZ</td>\n",
       "      <td>1611901992</td>\n",
       "      <td>96</td>\n",
       "      <td>18.0387</td>\n",
       "      <td>-88.6622</td>\n",
       "      <td>68.92</td>\n",
       "      <td>3.38</td>\n",
       "    </tr>\n",
       "  </tbody>\n",
       "</table>\n",
       "<p>551 rows × 9 columns</p>\n",
       "</div>"
      ],
      "text/plain": [
       "                     City  Cloudiness Country        Date  Humidity      Lat  \\\n",
       "0            Norman Wells          20      CA  1611901852        67  65.2820   \n",
       "1                 Qaanaaq           0      GL  1611901852        62  77.4840   \n",
       "2               Busselton           0      AU  1611901852        43 -33.6500   \n",
       "3                    Hilo          75      US  1611901852        64  19.7297   \n",
       "4                   Pisco           0      PE  1611901853        78 -13.7000   \n",
       "..                    ...         ...     ...         ...       ...      ...   \n",
       "546  Governador Valadares           2      BR  1611901991        91 -18.8511   \n",
       "547              Songyang         100      CN  1611901829        33  34.4553   \n",
       "548            El Rosario           0      MX  1611901992        94  24.2556   \n",
       "549                 Senno         100      RU  1611901992        93  59.5336   \n",
       "550            San Lazaro          48      BZ  1611901992        96  18.0387   \n",
       "\n",
       "          Lng  Max Temp  Wind Speed  \n",
       "0   -126.8329    -36.40        3.44  \n",
       "1    -69.3632    -14.01        6.15  \n",
       "2    115.3333     84.99        3.00  \n",
       "3   -155.0900     73.40        9.08  \n",
       "4    -76.2167     69.80        9.22  \n",
       "..        ...       ...         ...  \n",
       "546  -41.9494     67.32        0.60  \n",
       "547  113.0281     53.96        5.70  \n",
       "548 -107.1828     62.01        3.00  \n",
       "549   33.9167     28.99        4.00  \n",
       "550  -88.6622     68.92        3.38  \n",
       "\n",
       "[551 rows x 9 columns]"
      ]
     },
     "execution_count": 24,
     "metadata": {},
     "output_type": "execute_result"
    }
   ],
   "source": [
    "# show the top of the dataframe\n",
    "weather_dict"
   ]
  },
  {
   "cell_type": "code",
   "execution_count": 26,
   "metadata": {},
   "outputs": [],
   "source": [
    "# Save city data into a csv file\n",
    "weather_dict.to_csv(\"../output_data/cities.csv\", index = False)"
   ]
  },
  {
   "cell_type": "markdown",
   "metadata": {},
   "source": [
    "## Inspect the data and remove the cities where the humidity > 100%.\n",
    "----\n",
    "Skip this step if there are no cities that have humidity > 100%. "
   ]
  },
  {
   "cell_type": "markdown",
   "metadata": {},
   "source": [
    "## Plotting the Data\n",
    "* Use proper labeling of the plots using plot titles (including date of analysis) and axes labels.\n",
    "* Save the plotted figures as .pngs."
   ]
  },
  {
   "cell_type": "markdown",
   "metadata": {},
   "source": [
    "## Latitude vs. Temperature Plot"
   ]
  },
  {
   "cell_type": "code",
   "execution_count": 35,
   "metadata": {
    "scrolled": true
   },
   "outputs": [
    {
     "data": {
      "image/png": "[encoded data removed]",
      "text/plain": [
       "<Figure size 432x288 with 1 Axes>"
      ]
     },
     "metadata": {
      "needs_background": "light"
     },
     "output_type": "display_data"
    }
   ],
   "source": [
    "# Create Latitude vs. Temperature Plot scatter plot\n",
    "plt.scatter(weather_dict[\"Lat\"], weather_dict[\"Max Temp\"], color = \"blue\")\n",
    "\n",
    "# Set title\n",
    "plt.title(\"City Latitude vs. Max Temperature (04/01/20)\")\n",
    "\n",
    "# Set x axis label\n",
    "plt.xlabel(\"Laitude\")\n",
    "\n",
    "# Set y axis label\n",
    "plt.ylabel(\"Max Temperature (F)\")\n",
    "\n",
    "# Set grid line\n",
    "plt.grid(linestyle='-', linewidth=1, alpha = 0.5)\n",
    "\n",
    "# Save the plotted figure as .pngs\n",
    "plt.savefig(\"../Images/City Latitude vs Max Temperature.png\")"
   ]
  },
  {
   "cell_type": "markdown",
   "metadata": {},
   "source": [
    "## Latitude vs. Humidity Plot"
   ]
  },
  {
   "cell_type": "code",
   "execution_count": 36,
   "metadata": {},
   "outputs": [
    {
     "data": {
      "image/png": "[encoded data removed]",
      "text/plain": [
       "<Figure size 432x288 with 1 Axes>"
      ]
     },
     "metadata": {
      "needs_background": "light"
     },
     "output_type": "display_data"
    }
   ],
   "source": [
    "# Create Latitude vs. Humidity Plot scatter plot\n",
    "plt.scatter(weather_dict[\"Lat\"], weather_dict[\"Humidity\"], color = \"blue\")\n",
    "\n",
    "# Set title\n",
    "plt.title(\"City Latitude vs. Humidity (04/01/20)\")\n",
    "\n",
    "# Set x axis label\n",
    "plt.xlabel(\"Laitude\")\n",
    "\n",
    "# Set y axis label\n",
    "plt.ylabel(\"Humidity (%)\")\n",
    "\n",
    "# Set grid line\n",
    "plt.grid(linestyle='-', linewidth=1, alpha = 0.5)\n",
    "\n",
    "# Save the plotted figure as .pngs\n",
    "plt.savefig(\"../Images/City Latitude vs Humidity.png\")"
   ]
  },
  {
   "cell_type": "markdown",
   "metadata": {},
   "source": [
    "## Latitude vs. Cloudiness Plot"
   ]
  },
  {
   "cell_type": "code",
   "execution_count": 37,
   "metadata": {},
   "outputs": [
    {
     "data": {
      "image/png": "[encoded data removed]",
      "text/plain": [
       "<Figure size 432x288 with 1 Axes>"
      ]
     },
     "metadata": {
      "needs_background": "light"
     },
     "output_type": "display_data"
    }
   ],
   "source": [
    "# Create Latitude vs. Cloudiness Plot scatter plot\n",
    "plt.scatter(weather_dict[\"Lat\"], weather_dict[\"Cloudiness\"], color = \"blue\")\n",
    "\n",
    "# Set title\n",
    "plt.title(\"City Latitude vs. Cloudiness (04/01/20)\")\n",
    "\n",
    "# Set x axis label\n",
    "plt.xlabel(\"Laitude\")\n",
    "\n",
    "# Set y axis label\n",
    "plt.ylabel(\"Cloudiness (%)\")\n",
    "\n",
    "# Set y axis limit\n",
    "plt.ylim(-5,105)\n",
    "\n",
    "# Set grid line\n",
    "plt.grid(linestyle='-', linewidth=1, alpha = 0.5)\n",
    "\n",
    "# Save the plotted figure as .pngs\n",
    "plt.savefig(\"../Images/City Latitude vs Cloudiness.png\")"
   ]
  },
  {
   "cell_type": "markdown",
   "metadata": {},
   "source": [
    "## Latitude vs. Wind Speed Plot"
   ]
  },
  {
   "cell_type": "code",
   "execution_count": 38,
   "metadata": {},
   "outputs": [
    {
     "data": {
      "image/png": "[encoded data removed]",
      "text/plain": [
       "<Figure size 432x288 with 1 Axes>"
      ]
     },
     "metadata": {
      "needs_background": "light"
     },
     "output_type": "display_data"
    }
   ],
   "source": [
    "# Create Latitude vs. Wind Speed scatter plot\n",
    "plt.scatter(weather_dict[\"Lat\"], weather_dict[\"Wind Speed\"], color = \"blue\")\n",
    "plt.title(\"City Latitude vs. Wind Speed (mph) (04/01/20)\")\n",
    "\n",
    "# Set x axis label\n",
    "plt.xlabel(\"Laitude\")\n",
    "\n",
    "# Set y axis label\n",
    "plt.ylabel(\"Wind Speed (%)\")\n",
    "\n",
    "# Set y axis limit\n",
    "plt.ylim(-2,50)\n",
    "\n",
    "# Set grid line\n",
    "plt.grid(linestyle='-', linewidth=1, alpha = 0.5)\n",
    "\n",
    "# Save the plotted figure as .pngs\n",
    "plt.savefig(\"../Images/City Latitude vs Wind Speed (mph).png\")"
   ]
  },
  {
   "cell_type": "markdown",
   "metadata": {},
   "source": [
    "## Linear Regression"
   ]
  },
  {
   "cell_type": "code",
   "execution_count": 45,
   "metadata": {},
   "outputs": [],
   "source": [
    "# Create Northern and Southern Hemisphere DataFrames\n",
    "northern_hemisphere = weather_dict.loc[weather_dict[\"Lat\"] >= 0]\n",
    "southern_hemisphere = weather_dict.loc[weather_dict[\"Lat\"] < 0]\n",
    "\n",
    "# Define function for creating linear agression and scatter plot\n",
    "def linear_agression(x,y):\n",
    "    print(f\"The r-squared is : {round(st.pearsonr(x, y)[0],2)}\")\n",
    "    (slope, intercept, rvalue, pvalue, stderr) = linregress(x, y)\n",
    "    regress_values = x * slope + intercept\n",
    "    line_eq = \"y = \" + str(round(slope,2)) + \"x + \" + str(round(intercept,2))\n",
    "    plt.scatter(x, y)\n",
    "    plt.plot(x,regress_values,\"r-\")\n",
    "    return line_eq\n",
    "\n",
    "# Define a fuction for annotating\n",
    "def annotate(line_eq, a, b):\n",
    "    plt.annotate(line_eq,(a,b),fontsize=15,color=\"red\")"
   ]
  },
  {
   "cell_type": "markdown",
   "metadata": {},
   "source": [
    "####  Northern Hemisphere - Max Temp vs. Latitude Linear Regression"
   ]
  },
  {
   "cell_type": "code",
   "execution_count": 46,
   "metadata": {},
   "outputs": [
    {
     "name": "stdout",
     "output_type": "stream",
     "text": [
      "The r-squared is : -0.88\n"
     ]
    },
    {
     "data": {
      "image/png": "[encoded data removed]",
      "text/plain": [
       "<Figure size 432x288 with 1 Axes>"
      ]
     },
     "metadata": {
      "needs_background": "light"
     },
     "output_type": "display_data"
    }
   ],
   "source": [
    "# Call an function #1\n",
    "equation = linear_agression(northern_hemisphere[\"Lat\"], northern_hemisphere[\"Max Temp\"])\n",
    "\n",
    "# Call an function #2\n",
    "annotate(equation, 0, 0)\n",
    "\n",
    "# Set a title\n",
    "plt.title(\"Northern Hemisphere - Max Temp vs. Latitude Linear Regression\")\n",
    "\n",
    "# Set xlabel\n",
    "plt.xlabel(\"Latitude\")\n",
    "\n",
    "# Set ylabel\n",
    "plt.ylabel(\"Max Temp (F)\")\n",
    "\n",
    "# Save the figure\n",
    "plt.savefig(\"../Images/Northern Hemisphere - Max Temp vs. Latitude Linear Regression.png\")"
   ]
  },
  {
   "cell_type": "markdown",
   "metadata": {},
   "source": [
    "There is a strong negative correlation between lattitude and max temp for the northern hemisphere. The higher the latitude, the lower the temp."
   ]
  },
  {
   "cell_type": "markdown",
   "metadata": {},
   "source": [
    "####  Southern Hemisphere - Max Temp vs. Latitude Linear Regression"
   ]
  },
  {
   "cell_type": "code",
   "execution_count": 47,
   "metadata": {},
   "outputs": [
    {
     "name": "stdout",
     "output_type": "stream",
     "text": [
      "The r-squared is : 0.59\n"
     ]
    },
    {
     "data": {
      "image/png": "[encoded data removed]",
      "text/plain": [
       "<Figure size 432x288 with 1 Axes>"
      ]
     },
     "metadata": {
      "needs_background": "light"
     },
     "output_type": "display_data"
    }
   ],
   "source": [
    "# Call an function #1\n",
    "equation = linear_agression(southern_hemisphere[\"Lat\"],southern_hemisphere[\"Max Temp\"])\n",
    "\n",
    "# Call an function #2\n",
    "annotate(equation, -30, 50)\n",
    "\n",
    "# Set a title\n",
    "plt.title(\"Southern Hemisphere - Max Temp vs. Latitude Linear Regression\")\n",
    "\n",
    "# Set xlabel\n",
    "plt.xlabel(\"Latitude\")\n",
    "\n",
    "# Set ylabel\n",
    "plt.ylabel(\"Max Temp (F)\")\n",
    "\n",
    "# Save the figure\n",
    "plt.savefig(\"../Images/Southern Hemisphere - Max Temp vs. Latitude Linear Regression.png\")"
   ]
  },
  {
   "cell_type": "markdown",
   "metadata": {},
   "source": [
    "There is a positive correlation between latitude and max temp in the southern hemisphere. The greater the latitude, the higher the max temperature. "
   ]
  },
  {
   "cell_type": "markdown",
   "metadata": {},
   "source": [
    "####  Northern Hemisphere - Humidity (%) vs. Latitude Linear Regression"
   ]
  },
  {
   "cell_type": "code",
   "execution_count": 48,
   "metadata": {},
   "outputs": [
    {
     "name": "stdout",
     "output_type": "stream",
     "text": [
      "The r-squared is : 0.34\n"
     ]
    },
    {
     "data": {
      "image/png": "[encoded data removed]",
      "text/plain": [
       "<Figure size 432x288 with 1 Axes>"
      ]
     },
     "metadata": {
      "needs_background": "light"
     },
     "output_type": "display_data"
    }
   ],
   "source": [
    "# Call an function #1\n",
    "equation = linear_agression(northern_hemisphere[\"Lat\"], northern_hemisphere[\"Humidity\"])\n",
    "\n",
    "# Call an function #2\n",
    "annotate(equation, 40, 15)\n",
    "\n",
    "# Set a title\n",
    "plt.title(\"Northern Hemisphere - Humidity (%) vs. Latitude Linear Regression\")\n",
    "\n",
    "# Set xlabel\n",
    "plt.xlabel(\"Latitude\")\n",
    "\n",
    "# Set ylabel\n",
    "plt.ylabel(\"Humidity (%)\")\n",
    "\n",
    "# Save the figure\n",
    "plt.savefig(\"../Images/Northern Hemisphere - Humidity (%) vs. Latitude Linear Regression.png\")"
   ]
  },
  {
   "cell_type": "markdown",
   "metadata": {},
   "source": [
    "This graph shows there is a positive correlation between latitude and humidity for the northern hemisphere. The higher the latitiude, the greater the humidity."
   ]
  },
  {
   "cell_type": "markdown",
   "metadata": {},
   "source": [
    "####  Southern Hemisphere - Humidity (%) vs. Latitude Linear Regression"
   ]
  },
  {
   "cell_type": "code",
   "execution_count": 49,
   "metadata": {},
   "outputs": [
    {
     "name": "stdout",
     "output_type": "stream",
     "text": [
      "The r-squared is : 0.14\n"
     ]
    },
    {
     "data": {
      "image/png": "[encoded data removed]",
      "text/plain": [
       "<Figure size 432x288 with 1 Axes>"
      ]
     },
     "metadata": {
      "needs_background": "light"
     },
     "output_type": "display_data"
    }
   ],
   "source": [
    "# Call an function #1\n",
    "equation = linear_agression(southern_hemisphere[\"Lat\"], southern_hemisphere[\"Humidity\"])\n",
    "\n",
    "# Call an function #2\n",
    "annotate(equation, -40, 50)\n",
    "\n",
    "# Set title\n",
    "plt.title(\"Southern Hemisphere - Humidity (%) vs. Latitude Linear Regression\")\n",
    "\n",
    "# Set xlabel\n",
    "plt.xlabel(\"Latitude\")\n",
    "\n",
    "# Set ylabel\n",
    "plt.ylabel(\"Humidity (%)\")\n",
    "\n",
    "# Save the figure\n",
    "plt.savefig(\"../Images/Southern Hemisphere - Humidity (%) vs. Latitude Linear Regression.png\")"
   ]
  },
  {
   "cell_type": "markdown",
   "metadata": {},
   "source": [
    "There is a positive correlation between the latitude and humidity in the southern hemisphere. But it is a very small correlation. The % humidity stays fairly consistant thoughout the latitudes."
   ]
  },
  {
   "cell_type": "markdown",
   "metadata": {},
   "source": [
    "####  Northern Hemisphere - Cloudiness (%) vs. Latitude Linear Regression"
   ]
  },
  {
   "cell_type": "code",
   "execution_count": 50,
   "metadata": {},
   "outputs": [
    {
     "name": "stdout",
     "output_type": "stream",
     "text": [
      "The r-squared is : 0.25\n"
     ]
    },
    {
     "data": {
      "image/png": "[encoded data removed]",
      "text/plain": [
       "<Figure size 432x288 with 1 Axes>"
      ]
     },
     "metadata": {
      "needs_background": "light"
     },
     "output_type": "display_data"
    }
   ],
   "source": [
    "# Call an function #1\n",
    "equation = linear_agression(northern_hemisphere[\"Lat\"], northern_hemisphere[\"Cloudiness\"])\n",
    "\n",
    "# Call an function #2\n",
    "annotate(equation, 30, 40)\n",
    "\n",
    "# Set a title\n",
    "plt.title(\"Northern Hemisphere - Cloudiness (%) vs. Latitude Linear Regression\")\n",
    "\n",
    "# Set xlabel\n",
    "plt.xlabel(\"Latitude\")\n",
    "\n",
    "# Set ylabel\n",
    "plt.ylabel(\"Cloudiness (%)\")\n",
    "\n",
    "# Save the figure\n",
    "plt.savefig(\"../Images/Northern Hemisphere - Cloudiness (%) vs. Latitude Linear Regression.png\")"
   ]
  },
  {
   "cell_type": "markdown",
   "metadata": {},
   "source": [
    "There is a positive correlation between latitude and cloudiness for the northern hemisphere. But it is only at 0.5, which is a very small slope and a small correlation. "
   ]
  },
  {
   "cell_type": "markdown",
   "metadata": {},
   "source": [
    "####  Southern Hemisphere - Cloudiness (%) vs. Latitude Linear Regression"
   ]
  },
  {
   "cell_type": "code",
   "execution_count": 51,
   "metadata": {},
   "outputs": [
    {
     "name": "stdout",
     "output_type": "stream",
     "text": [
      "The r-squared is : 0.16\n"
     ]
    },
    {
     "data": {
      "image/png": "[encoded data removed]",
      "text/plain": [
       "<Figure size 432x288 with 1 Axes>"
      ]
     },
     "metadata": {
      "needs_background": "light"
     },
     "output_type": "display_data"
    }
   ],
   "source": [
    "# Call an function #1\n",
    "equation = linear_agression(southern_hemisphere[\"Lat\"], southern_hemisphere[\"Cloudiness\"])\n",
    "\n",
    "# Call an function #2\n",
    "annotate(equation, -30, 40)\n",
    "\n",
    "# Set a title\n",
    "plt.title(\"Southern Hemisphere - Cloudiness (%) vs. Latitude Linear Regression\")\n",
    "\n",
    "# Set xlabel\n",
    "plt.xlabel(\"Latitude\")\n",
    "\n",
    "# Set ylabel\n",
    "plt.ylabel(\"Cloudiness (%)\")\n",
    "\n",
    "# Save the figure\n",
    "plt.savefig(\"../Images/Southern Hemisphere - Cloudiness (%) vs. Latitude Linear Regression.png\")"
   ]
  },
  {
   "cell_type": "markdown",
   "metadata": {},
   "source": [
    "There is a positive correlation between latitude and cloudiness for the southern hemisphere. Once again, it is less than 0.5, at 0.47, making it a very slight positive correlation."
   ]
  },
  {
   "cell_type": "markdown",
   "metadata": {},
   "source": [
    "####  Northern Hemisphere - Wind Speed (mph) vs. Latitude Linear Regression"
   ]
  },
  {
   "cell_type": "code",
   "execution_count": 52,
   "metadata": {},
   "outputs": [
    {
     "name": "stdout",
     "output_type": "stream",
     "text": [
      "The r-squared is : 0.04\n"
     ]
    },
    {
     "data": {
      "image/png": "[encoded data removed]",
      "text/plain": [
       "<Figure size 432x288 with 1 Axes>"
      ]
     },
     "metadata": {
      "needs_background": "light"
     },
     "output_type": "display_data"
    }
   ],
   "source": [
    "# Call an function #1\n",
    "equation = linear_agression(northern_hemisphere[\"Lat\"], northern_hemisphere[\"Wind Speed\"])\n",
    "\n",
    "# Call an function #2\n",
    "annotate(equation, 40, 20)\n",
    "\n",
    "# Set  title\n",
    "plt.title(\"Northern Hemisphere - Wind Speed (mph) vs. Latitude Linear Regression\")\n",
    "\n",
    "# Set xlabel\n",
    "plt.xlabel(\"Latitude\")\n",
    "\n",
    "# Set ylabel\n",
    "plt.ylabel(\"Wind Speed (mph)\")\n",
    "\n",
    "# Save the figure\n",
    "plt.savefig(\"../Images/Northern Hemisphere - Wind Speed vs. Latitude Linear Regression.png\")"
   ]
  },
  {
   "cell_type": "markdown",
   "metadata": {},
   "source": [
    "The slope is at 0.01, which is very very slightly positive of a correlation between wind speed and latitude in the northern hemisphere. The wind stays relativly the same throughout the latitudes. "
   ]
  },
  {
   "cell_type": "markdown",
   "metadata": {},
   "source": [
    "####  Southern Hemisphere - Wind Speed (mph) vs. Latitude Linear Regression"
   ]
  },
  {
   "cell_type": "code",
   "execution_count": 53,
   "metadata": {},
   "outputs": [
    {
     "name": "stdout",
     "output_type": "stream",
     "text": [
      "The r-squared is : -0.25\n"
     ]
    },
    {
     "data": {
      "image/png": "[encoded data removed]",
      "text/plain": [
       "<Figure size 432x288 with 1 Axes>"
      ]
     },
     "metadata": {
      "needs_background": "light"
     },
     "output_type": "display_data"
    }
   ],
   "source": [
    "# Call an function #1\n",
    "equation = linear_agression(southern_hemisphere[\"Lat\"], southern_hemisphere[\"Wind Speed\"])\n",
    "\n",
    "# Call an function #2\n",
    "annotate(equation, -30, 15)\n",
    "\n",
    "# Set  title\n",
    "plt.title(\"Southern Hemisphere - Wind Speed (mph) vs. Latitude Linear Regression\")\n",
    "\n",
    "# Set xlabel\n",
    "plt.xlabel(\"Latitude\")\n",
    "\n",
    "# Set ylabel\n",
    "plt.ylabel(\"Wind Speed (mph)\")\n",
    "\n",
    "# Save the figure\n",
    "plt.savefig(\"../Images/Southern Hemisphere - Wind Speed vs. Latitude Linear Regression.png\")"
   ]
  },
  {
   "cell_type": "markdown",
   "metadata": {},
   "source": [
    "The slope is at -0.11, which is very very slightly negative of a correlation between wind speed and latitude in the southern hemisphere. The wind stays relativly the same throughout the latitudes. "
   ]
  },
  {
   "cell_type": "code",
   "execution_count": null,
   "metadata": {},
   "outputs": [],
   "source": []
  }
 ],
 "metadata": {
  "anaconda-cloud": {},
  "kernel_info": {
   "name": "python3"
  },
  "kernelspec": {
   "display_name": "Python 3",
   "language": "python",
   "name": "python3"
  },
  "language_info": {
   "codemirror_mode": {
    "name": "ipython",
    "version": 3
   },
   "file_extension": ".py",
   "mimetype": "text/x-python",
   "name": "python",
   "nbconvert_exporter": "python",
   "pygments_lexer": "ipython3",
   "version": "3.8.5"
  },
  "latex_envs": {
   "LaTeX_envs_menu_present": true,
   "autoclose": false,
   "autocomplete": true,
   "bibliofile": "biblio.bib",
   "cite_by": "apalike",
   "current_citInitial": 1,
   "eqLabelWithNumbers": true,
   "eqNumInitial": 1,
   "hotkeys": {
    "equation": "Ctrl-E",
    "itemize": "Ctrl-I"
   },
   "labels_anchors": false,
   "latex_user_defs": false,
   "report_style_numbering": false,
   "user_envs_cfg": false
  },
  "nteract": {
   "version": "0.12.3"
  }
 },
 "nbformat": 4,
 "nbformat_minor": 2
}
